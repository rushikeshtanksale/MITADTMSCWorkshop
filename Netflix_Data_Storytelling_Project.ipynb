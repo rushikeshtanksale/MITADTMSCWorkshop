{
 "cells": [
  {
   "cell_type": "markdown",
   "id": "4cba5ccb",
   "metadata": {},
   "source": [
    "# 🎬 Netflix Data Storytelling Project\n",
    "This notebook walks through data loading, preprocessing, cleaning, and storytelling using the Netflix dataset loaded directly from the web."
   ]
  },
  {
   "cell_type": "markdown",
   "id": "4eb708e0",
   "metadata": {},
   "source": [
    "## 📥 Step 1: Load Dataset from Web"
   ]
  },
  {
   "cell_type": "code",
   "execution_count": null,
   "id": "56d96ed5",
   "metadata": {},
   "outputs": [],
   "source": [
    "import pandas as pd\n",
    "\n",
    "# Load dataset from GitHub\n",
    "url = \"https://raw.githubusercontent.com/sagnik1511/netflix-data-analysis/main/netflix_titles.csv\"\n",
    "df = pd.read_csv(url)\n",
    "df.head()"
   ]
  },
  {
   "cell_type": "markdown",
   "id": "5e3a17cc",
   "metadata": {},
   "source": [
    "## 🔍 Step 2: Initial Data Inspection"
   ]
  },
  {
   "cell_type": "code",
   "execution_count": null,
   "id": "511ba718",
   "metadata": {},
   "outputs": [],
   "source": [
    "df.info()\n",
    "df.isnull().sum()"
   ]
  },
  {
   "cell_type": "markdown",
   "id": "78c95bd6",
   "metadata": {},
   "source": [
    "## 🧹 Step 3: Data Cleaning"
   ]
  },
  {
   "cell_type": "code",
   "execution_count": null,
   "id": "6a1c42e1",
   "metadata": {},
   "outputs": [],
   "source": [
    "# Fill missing values\n",
    "df[\"country\"].fillna(\"Unknown\", inplace=True)\n",
    "df[\"rating\"].fillna(\"Not Rated\", inplace=True)\n",
    "df[\"director\"].fillna(\"Not Listed\", inplace=True)\n",
    "df[\"cast\"].fillna(\"Not Listed\", inplace=True)\n",
    "\n",
    "# Drop rows with missing date_added or duration\n",
    "df.dropna(subset=[\"date_added\", \"duration\"], inplace=True)"
   ]
  },
  {
   "cell_type": "markdown",
   "id": "1020cbfc",
   "metadata": {},
   "source": [
    "## 🛠️ Step 4: Feature Engineering"
   ]
  },
  {
   "cell_type": "code",
   "execution_count": null,
   "id": "509037e2",
   "metadata": {},
   "outputs": [],
   "source": [
    "# Convert date_added to datetime\n",
    "df[\"date_added\"] = pd.to_datetime(df[\"date_added\"])\n",
    "df[\"year_added\"] = df[\"date_added\"].dt.year\n",
    "\n",
    "# Extract main genre\n",
    "df[\"main_genre\"] = df[\"listed_in\"].str.split(\",\").str[0]\n",
    "\n",
    "# Copy type into a simpler column\n",
    "df[\"content_type\"] = df[\"type\"]"
   ]
  },
  {
   "cell_type": "markdown",
   "id": "abdfc975",
   "metadata": {},
   "source": [
    "## 📊 Step 5: Import Visualization Libraries"
   ]
  },
  {
   "cell_type": "code",
   "execution_count": null,
   "id": "dac4906c",
   "metadata": {},
   "outputs": [],
   "source": [
    "import matplotlib.pyplot as plt\n",
    "import seaborn as sns\n",
    "\n",
    "sns.set(style=\"whitegrid\")\n",
    "custom_palette = sns.color_palette(\"Set2\")"
   ]
  },
  {
   "cell_type": "markdown",
   "id": "81f5555c",
   "metadata": {},
   "source": [
    "## 📖 Story 1: Netflix is Adding More Content Over Time"
   ]
  },
  {
   "cell_type": "code",
   "execution_count": null,
   "id": "43784049",
   "metadata": {},
   "outputs": [],
   "source": [
    "sns.countplot(x=\"year_added\", data=df, palette=\"viridis\")\n",
    "plt.title(\"Netflix Content Additions by Year\")\n",
    "plt.xticks(rotation=45)\n",
    "plt.xlabel(\"Year Added\")\n",
    "plt.ylabel(\"Number of Titles\")\n",
    "plt.show()"
   ]
  },
  {
   "cell_type": "markdown",
   "id": "a3a2d271",
   "metadata": {},
   "source": [
    "> 🧠 Insight: Netflix has added the most content after 2015, with a sharp increase in growth."
   ]
  },
  {
   "cell_type": "markdown",
   "id": "288ca92b",
   "metadata": {},
   "source": [
    "## 📖 Story 2: Movies vs TV Shows"
   ]
  },
  {
   "cell_type": "code",
   "execution_count": null,
   "id": "e8607333",
   "metadata": {},
   "outputs": [],
   "source": [
    "sns.countplot(x=\"content_type\", data=df, palette=custom_palette)\n",
    "plt.title(\"Content Type Distribution\")\n",
    "plt.xlabel(\"Type\")\n",
    "plt.ylabel(\"Number of Titles\")\n",
    "plt.show()"
   ]
  },
  {
   "cell_type": "markdown",
   "id": "69205c59",
   "metadata": {},
   "source": [
    "> 🧠 Insight: Netflix has more movies than TV shows in its content library."
   ]
  },
  {
   "cell_type": "markdown",
   "id": "9a74a2fd",
   "metadata": {},
   "source": [
    "## 📖 Story 3: Most Popular Genres"
   ]
  },
  {
   "cell_type": "code",
   "execution_count": null,
   "id": "c7cb7f53",
   "metadata": {},
   "outputs": [],
   "source": [
    "df[\"main_genre\"].value_counts().head(10).plot(kind=\"bar\", color=\"skyblue\")\n",
    "plt.title(\"Top 10 Most Common Netflix Genres\")\n",
    "plt.xlabel(\"Genre\")\n",
    "plt.ylabel(\"Number of Titles\")\n",
    "plt.xticks(rotation=45)\n",
    "plt.show()"
   ]
  },
  {
   "cell_type": "markdown",
   "id": "d4877019",
   "metadata": {},
   "source": [
    "> 🧠 Insight: Drama and Comedy are the most common genres on Netflix."
   ]
  },
  {
   "cell_type": "markdown",
   "id": "23fb30cd",
   "metadata": {},
   "source": [
    "## 📖 Story 4: Top Contributing Countries"
   ]
  },
  {
   "cell_type": "code",
   "execution_count": null,
   "id": "7facff51",
   "metadata": {},
   "outputs": [],
   "source": [
    "df[\"country\"].value_counts().head(10).plot(kind=\"bar\", color=\"tomato\")\n",
    "plt.title(\"Top 10 Countries Producing Netflix Content\")\n",
    "plt.xlabel(\"Country\")\n",
    "plt.ylabel(\"Number of Titles\")\n",
    "plt.xticks(rotation=45)\n",
    "plt.show()"
   ]
  },
  {
   "cell_type": "markdown",
   "id": "ca096918",
   "metadata": {},
   "source": [
    "> 🧠 Insight: The US dominates in Netflix content, followed by India and the UK."
   ]
  },
  {
   "cell_type": "markdown",
   "id": "6ac0f55a",
   "metadata": {},
   "source": [
    "## 📖 Story 5: Rating Distribution of Netflix Titles"
   ]
  },
  {
   "cell_type": "code",
   "execution_count": null,
   "id": "b1cbd794",
   "metadata": {},
   "outputs": [],
   "source": [
    "top_ratings = df[\"rating\"].value_counts().head(10)\n",
    "sns.barplot(x=top_ratings.values, y=top_ratings.index, palette=\"magma\")\n",
    "plt.title(\"Most Common Netflix Content Ratings\")\n",
    "plt.xlabel(\"Number of Titles\")\n",
    "plt.ylabel(\"Rating\")\n",
    "plt.show()"
   ]
  },
  {
   "cell_type": "markdown",
   "id": "55869ac0",
   "metadata": {},
   "source": [
    "> 🧠 Insight: TV-MA and TV-14 dominate Netflix content, indicating a preference for mature audiences."
   ]
  },
  {
   "cell_type": "markdown",
   "id": "3a8ead00",
   "metadata": {},
   "source": [
    "## 📖 Story 6: Content Trends by Type Over the Years"
   ]
  },
  {
   "cell_type": "code",
   "execution_count": null,
   "id": "cd813027",
   "metadata": {},
   "outputs": [],
   "source": [
    "sns.histplot(data=df, x=\"year_added\", hue=\"content_type\", multiple=\"stack\", palette=\"coolwarm\")\n",
    "plt.title(\"Movies vs TV Shows Over Time\")\n",
    "plt.xlabel(\"Year Added\")\n",
    "plt.ylabel(\"Number of Titles\")\n",
    "plt.show()"
   ]
  },
  {
   "cell_type": "markdown",
   "id": "9dc49ead",
   "metadata": {},
   "source": [
    "> 🧠 Insight: TV shows are growing year over year, but movies still dominate overall volume."
   ]
  },
  {
   "cell_type": "markdown",
   "id": "bf307e71",
   "metadata": {},
   "source": [
    "## ✅ Project Summary\n",
    "- Netflix has scaled content aggressively since 2015\n",
    "- Dramas and Comedies dominate genre-wise\n",
    "- US leads in production volume\n",
    "- TV shows have been rising consistently in recent years"
   ]
  }
 ],
 "metadata": {},
 "nbformat": 4,
 "nbformat_minor": 5
}
